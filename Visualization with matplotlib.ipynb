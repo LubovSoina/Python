{
 "cells": [
  {
   "cell_type": "code",
   "execution_count": 1,
   "metadata": {},
   "outputs": [],
   "source": [
    "import pandas as pd"
   ]
  },
  {
   "cell_type": "code",
   "execution_count": 2,
   "metadata": {},
   "outputs": [],
   "source": [
    "data=pd.read_excel('Russian Federation.xlsx', sheet_name='Russian Fed by Residence',skiprows=20,skipfooter=2)"
   ]
  },
  {
   "cell_type": "markdown",
   "metadata": {},
   "source": [
    "Look на первые 5 строк (колчичество по умолчанию, задать свое количество = указать число в скобках) датафрейма"
   ]
  },
  {
   "cell_type": "code",
   "execution_count": null,
   "metadata": {},
   "outputs": [],
   "source": [
    "data.head()"
   ]
  },
  {
   "cell_type": "markdown",
   "metadata": {},
   "source": [
    "Look на последние 5 строк (колчичество по умолчанию, задать свое количество = указать число в скобках) датафрейма"
   ]
  },
  {
   "cell_type": "code",
   "execution_count": null,
   "metadata": {},
   "outputs": [],
   "source": [
    "data.tail()"
   ]
  },
  {
   "cell_type": "markdown",
   "metadata": {},
   "source": [
    "Имена колонок"
   ]
  },
  {
   "cell_type": "code",
   "execution_count": null,
   "metadata": {},
   "outputs": [],
   "source": [
    "data.columns.values "
   ]
  },
  {
   "cell_type": "markdown",
   "metadata": {},
   "source": [
    "Препроцессинг датафрейма"
   ]
  },
  {
   "cell_type": "code",
   "execution_count": null,
   "metadata": {},
   "outputs": [],
   "source": [
    "data.drop(['AREA','REG','DEV','Coverage'], axis=1, inplace=True) #Удалить колонки, axis [0,1]=[строка\\столбик]\n",
    "data.rename(columns={'OdName':'Country'}, inplace=True) #переименновать для удобства\n",
    "data.replace('..', 0,inplace=True) # заменить ерунду на норм числа\n",
    "data['Total'] = data.sum(axis=1) #создать колокну\n",
    "data.set_index('Country', inplace=True) #Задать индексы\n",
    "data=data[data.Type=='Immigrants'] #фильтр датафрейм"
   ]
  },
  {
   "cell_type": "code",
   "execution_count": null,
   "metadata": {},
   "outputs": [],
   "source": [
    "years=range(1980,2014)"
   ]
  },
  {
   "cell_type": "code",
   "execution_count": null,
   "metadata": {},
   "outputs": [],
   "source": [
    "%matplotlib inline \n",
    "import matplotlib.pyplot as plt"
   ]
  },
  {
   "cell_type": "code",
   "execution_count": null,
   "metadata": {},
   "outputs": [],
   "source": [
    "country_name=r'Uzbekistan'"
   ]
  },
  {
   "cell_type": "code",
   "execution_count": null,
   "metadata": {},
   "outputs": [],
   "source": [
    "data.loc[country_name, years]"
   ]
  },
  {
   "cell_type": "code",
   "execution_count": null,
   "metadata": {},
   "outputs": [],
   "source": [
    "plt.plot(data.loc[country_name, years])"
   ]
  },
  {
   "cell_type": "code",
   "execution_count": null,
   "metadata": {},
   "outputs": [],
   "source": [
    "data.loc[country_name, years].plot(kind='line')\n",
    "plt.title('Иммигранты из '+ country_name)\n",
    "plt.ylabel('Колчество эммигрантов')\n",
    "plt.xlabel('Годы')\n",
    "#plt.text(1993, 31000, 'Опа') \n",
    "plt.show() "
   ]
  },
  {
   "cell_type": "code",
   "execution_count": null,
   "metadata": {},
   "outputs": [],
   "source": [
    "data.sort_values(['Total'], ascending=False, axis=0,inplace=True)\n",
    "top5 =data.head()\n",
    "top5 =top5[years].transpose()"
   ]
  },
  {
   "cell_type": "code",
   "execution_count": null,
   "metadata": {},
   "outputs": [],
   "source": [
    "top5.plot(kind='area', stacked=False,alpha=0.35,figsize=(20, 10))\n",
    "plt.title('Тренд иммиграции 5 топ стран')\n",
    "plt.ylabel('Число иммигрантов')\n",
    "plt.xlabel('Годы',fontsize=16)\n",
    "plt.legend(fontsize=16)\n",
    "plt.show()"
   ]
  },
  {
   "cell_type": "code",
   "execution_count": null,
   "metadata": {},
   "outputs": [],
   "source": [
    "not_top5 =data.tail()\n",
    "not_top5 =not_top5[years].transpose()"
   ]
  },
  {
   "cell_type": "code",
   "execution_count": null,
   "metadata": {},
   "outputs": [],
   "source": [
    "ax = not_top5.plot(kind='area', stacked=False,alpha=0.35, figsize=(20, 10))\n",
    "\n",
    "ax.set_title('Тренд иммиграции 5 не топ стран')\n",
    "ax.set_ylabel('Число эммигрантов')\n",
    "ax.set_xlabel('годы')\n",
    "plt.legend(fontsize=16)\n",
    "ax.tick_params(labelsize=18)"
   ]
  },
  {
   "cell_type": "code",
   "execution_count": null,
   "metadata": {},
   "outputs": [],
   "source": [
    "data[2007].plot(kind='hist', figsize=(8, 5))\n",
    "\n",
    "plt.title('Гистрограмма иммиграции') \n",
    "plt.ylabel('Число стран')\n",
    "plt.xlabel('Число иммигрантов') \n",
    "\n",
    "plt.show()"
   ]
  },
  {
   "cell_type": "code",
   "execution_count": null,
   "metadata": {},
   "outputs": [],
   "source": [
    "count, bin_edges = np.histogram(data[2007])\n",
    "\n",
    "print(count) \n",
    "print(bin_edges) "
   ]
  },
  {
   "cell_type": "code",
   "execution_count": null,
   "metadata": {},
   "outputs": [],
   "source": [
    "data[2007].plot(kind='hist', figsize=(8, 5), xticks=bin_edges)\n",
    "\n",
    "plt.title('Гистограмма иммигрантов в 2007')\n",
    "plt.ylabel('Число стран') \n",
    "plt.xlabel('Число эммигрантов')\n",
    "\n",
    "plt.show()"
   ]
  },
  {
   "cell_type": "code",
   "execution_count": null,
   "metadata": {},
   "outputs": [],
   "source": [
    "data.index.values #список стран"
   ]
  },
  {
   "cell_type": "code",
   "execution_count": null,
   "metadata": {},
   "outputs": [],
   "source": [
    "import matplotlib\n",
    "for name, hex in matplotlib.colors.cnames.items():\n",
    "    print(name, hex)"
   ]
  },
  {
   "cell_type": "code",
   "execution_count": null,
   "metadata": {},
   "outputs": [],
   "source": [
    "username1=r\"Kazakhstan\"\n",
    "username2=r\"Republic of Moldova\""
   ]
  },
  {
   "cell_type": "code",
   "execution_count": null,
   "metadata": {},
   "outputs": [],
   "source": [
    "df1 = data.loc[username1, years]\n",
    "df2 = data.loc[username2, years]"
   ]
  },
  {
   "cell_type": "code",
   "execution_count": null,
   "metadata": {},
   "outputs": [],
   "source": [
    "df1.plot(kind='bar', figsize=(10, 6))"
   ]
  },
  {
   "cell_type": "code",
   "execution_count": null,
   "metadata": {},
   "outputs": [],
   "source": [
    "df1.plot(kind='bar', figsize=(10, 6))\n",
    "plt.xlabel('Год') \n",
    "plt.ylabel('Число эммигрантов') \n",
    "plt.title(username1 +' иммигранты в Россию с 1980 по 2013') \n",
    "\n",
    "plt.annotate('Maксимум', \n",
    "             xy=(14, 300000),\n",
    "             xytext=(17, 270000),\n",
    "             arrowprops=dict(facecolor='black', shrink=0.05),\n",
    "             rotation=15,                  \n",
    "             va='bottom',                    \n",
    "             ha='left',\n",
    "             fontsize=18\n",
    "            )\n",
    "\n",
    "plt.show()"
   ]
  },
  {
   "cell_type": "code",
   "execution_count": null,
   "metadata": {},
   "outputs": [],
   "source": [
    "plt.subplot(2, 1, 1)\n",
    "df1.plot(kind='bar',figsize=(13, 10))\n",
    "plt.title(username1 +' иммигранты в Россию с 1980 по 2013')\n",
    "plt.subplot(2, 1, 2)\n",
    "plt.title(username2 +' иммигранты в Россию с 1980 по 2013')\n",
    "df2.plot(kind='bar')\n",
    "plt.savefig('kek.png')"
   ]
  }
 ],
 "metadata": {
  "kernelspec": {
   "display_name": "Python 3",
   "language": "python",
   "name": "python3"
  },
  "language_info": {
   "codemirror_mode": {
    "name": "ipython",
    "version": 3
   },
   "file_extension": ".py",
   "mimetype": "text/x-python",
   "name": "python",
   "nbconvert_exporter": "python",
   "pygments_lexer": "ipython3",
   "version": "3.7.3"
  }
 },
 "nbformat": 4,
 "nbformat_minor": 2
}
